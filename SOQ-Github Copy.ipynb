{
 "cells": [
  {
   "cell_type": "code",
   "execution_count": null,
   "metadata": {},
   "outputs": [],
   "source": [
    "import pandas as pd"
   ]
  },
  {
   "cell_type": "markdown",
   "metadata": {},
   "source": [
    "# Description"
   ]
  },
  {
   "cell_type": "code",
   "execution_count": null,
   "metadata": {},
   "outputs": [],
   "source": [
    "#----Setting Up The Info----\n",
    "\n",
    "#Start with importing: AMT, Sales Period, OnHand & OnOrder File\n",
    "#Filter AMT to show only \"Y\", meaning only active skus\n",
    "#Merge in the OH and OO columns to the AMT on the store and sku columns, save as new dataframe and fillna as 0 \n",
    "#From the AMT column \"old sku\" use this to merge in the sales period (usually sales period would be previous year info)\n",
    "#Fill any null values with 0s\n",
    "#Create an \"Average Weekly Sales\" column by with the sales period info.\n",
    "\n",
    "#----Building The Orders-------\n",
    "\n",
    "#Info needed to build orders: Truck Size, WOS, Total Ordered Pallets Per Store, and Rank System\n",
    "#To begin, build a new column called 'AD Units'. AD Units is the sum of on-hands, on-orders, and SOQ units.\n",
    "#Divide the AD Units by the AWS to build the WOS column. \n",
    "#Both the SOQ Units and WOS column will continuely be updating.\n",
    "#Add a rank column that looks at each store, each item, and ranks based on lowest to highest WOS.\n",
    "#The lowest WOS is ranked 1 and using a for loop, a pallet will be added to the item with rank 1 until truck size met.\n",
    "#Pallet will be added to the column called 'Add Pallet'. And another column called 'Total' is part of the for loop check\n",
    "#The total column will be looking at each store and taking the sum of the column called 'SOQ Pallets'."
   ]
  },
  {
   "cell_type": "markdown",
   "metadata": {},
   "source": [
    "# Data Import"
   ]
  },
  {
   "cell_type": "code",
   "execution_count": null,
   "metadata": {},
   "outputs": [],
   "source": [
    "AMT = pd.read_excel(#Insert Current Assortment List Here)\n",
    "Sales = pd.read_excel(#Insert Sales Time Period (4 Week Period))\n",
    "Inventory = pd.read_excel(#Insert Current Inventory and Orders Here)"
   ]
  },
  {
   "cell_type": "code",
   "execution_count": null,
   "metadata": {},
   "outputs": [],
   "source": [
    "AMT.head()"
   ]
  },
  {
   "cell_type": "code",
   "execution_count": null,
   "metadata": {},
   "outputs": [],
   "source": [
    "Sales.head()"
   ]
  },
  {
   "cell_type": "code",
   "execution_count": null,
   "metadata": {
    "scrolled": false
   },
   "outputs": [],
   "source": [
    "Inventory.head()"
   ]
  },
  {
   "cell_type": "markdown",
   "metadata": {},
   "source": [
    "# Structure Data - Merging, Adding, and Removing Fields"
   ]
  },
  {
   "cell_type": "code",
   "execution_count": null,
   "metadata": {},
   "outputs": [],
   "source": [
    "#Since this AMT File only has active skus, we can skip the filtering step and merge the inventory info and sales info.\n",
    "\n",
    "SOQ = AMT.merge(Inventory, how = 'left', left_on = ['STR NBR', 'Sku'], right_on = ['Store Nbr', 'SKU Nbr']).fillna(0)\n",
    "\n",
    "SOQ.drop(columns = ['Store Nbr', 'SKU Name', 'SKU Nbr'], inplace = True)\n",
    "\n",
    "SOQ = SOQ.merge(Sales, how = 'left', left_on = ['STR NBR', 'Old Sku'], right_on = ['Store Nbr', 'SKU Nbr']).fillna(0)\n",
    "\n",
    "SOQ.drop(columns = ['Store Nbr', 'SKU Nbr'], inplace = True)\n",
    "\n",
    "SOQ[['Str OH Units Dly', 'Str OO Units Dly', 'Sales Units']] = SOQ[['Str OH Units Dly', 'Str OO Units Dly', 'Sales Units']].astype('int')\n",
    "\n",
    "SOQ['AWS'] = SOQ['Sales Units']/4\n",
    "\n",
    "SOQ['SOQ PLT'] = 0\n",
    "SOQ['SOQ Units'] = SOQ['SOQ PLT']*SOQ['PLT SZ']\n",
    "SOQ['AD Units'] = SOQ['Str OH Units Dly'] + SOQ['Str OO Units Dly'] + SOQ['SOQ Units']\n",
    "SOQ['WOS'] = SOQ['AD Units'] / SOQ['AWS']\n",
    "\n",
    "SOQ2 = SOQ[['STR NBR', 'Sku', 'WOS']]\n",
    "SOQ2 = pd.DataFrame.groupby(SOQ2, by = ['STR NBR'],sort = True).rank(method = 'min')\n",
    "\n",
    "SOQ = SOQ.join(SOQ2, how = 'left', rsuffix='x').fillna(0)\n",
    "\n",
    "SOQ.drop(columns = 'Skux', inplace = True)\n",
    "\n",
    "SOQ['WOSx'] = SOQ['WOSx'].astype('int')\n",
    "\n",
    "SOQ.columns = ['BYO', 'MKT', 'STR', 'Sku', 'Old Sku', 'Sku Description', 'AMT', 'PLT SZ', 'WH', 'Truck Limit', 'STR OH', 'STR OO', 'Sales Units', 'AWS', 'SOQ PLT', 'SOQ Units', 'AD Units', 'WOS', 'Rank']"
   ]
  },
  {
   "cell_type": "code",
   "execution_count": null,
   "metadata": {},
   "outputs": [],
   "source": [
    "SOQ.head()"
   ]
  },
  {
   "cell_type": "markdown",
   "metadata": {},
   "source": [
    "# Generating Full Truck Quantities"
   ]
  },
  {
   "cell_type": "code",
   "execution_count": null,
   "metadata": {
    "scrolled": true
   },
   "outputs": [],
   "source": [
    "#----Running While Loop Unitl 50 Pallet Truck Quantities Are Reached----\n",
    "SOQ_50 = SOQ.loc[SOQ['Truck Limit'] == 18].copy()\n",
    "\n",
    "x = 0\n",
    "\n",
    "while x < 50:\n",
    "    \n",
    "    SOQ_50['SOQ PLT'] = SOQ_50[['SOQ PLT', 'Rank']].apply((lambda x: x['SOQ PLT']+1 if x['Rank'] == 1 else x['SOQ PLT']),axis =1)\n",
    "\n",
    "    SOQ_50['SOQ Units'] = SOQ_50['SOQ PLT']*SOQ_50['PLT SZ']\n",
    "    SOQ_50['AD Units'] = SOQ_50['STR OH'] + SOQ_50['STR OO'] + SOQ_50['SOQ Units']\n",
    "    SOQ_50['WOS'] = SOQ_50['AD Units'] / SOQ_50['AWS']\n",
    "\n",
    "    SOQ2 = SOQ_50[['STR', 'Sku', 'WOS']]\n",
    "    SOQ2 = pd.DataFrame.groupby(SOQ2, by = ['STR'],sort = True).rank(method = 'min')\n",
    "\n",
    "    SOQ_50 = SOQ_50.join(SOQ2, how = 'left', rsuffix='x').fillna(0)\n",
    "\n",
    "    SOQ_50.drop(columns = 'Skux', inplace = True)\n",
    "    SOQ_50['Rank'] = SOQ_50['WOSx'].astype('int')\n",
    "    SOQ_50.drop(columns = 'WOSx', inplace = True)\n",
    "    \n",
    "    x += 1\n",
    "    \n",
    "#----Running While Loop Unitl 51 Pallet Truck Quantities Are Reached----    \n",
    "SOQ_51 = SOQ.loc[SOQ['Truck Limit'] == 20].copy()\n",
    "\n",
    "x = 0\n",
    "\n",
    "while x < 51:\n",
    "    \n",
    "    SOQ_51['SOQ PLT'] = SOQ_51[['SOQ PLT', 'Rank']].apply((lambda x: x['SOQ PLT']+1 if x['Rank'] == 1 else x['SOQ PLT']),axis =1)\n",
    "\n",
    "    SOQ_51['SOQ Units'] = SOQ_51['SOQ PLT']*SOQ_51['PLT SZ']\n",
    "    SOQ_51['AD Units'] = SOQ_51['STR OH'] + SOQ_51['STR OO'] + SOQ_51['SOQ Units']\n",
    "    SOQ_51['WOS'] = SOQ_51['AD Units'] / SOQ_51['AWS']\n",
    "\n",
    "    SOQ2 = SOQ_51[['STR', 'Sku', 'WOS']]\n",
    "    SOQ2 = pd.DataFrame.groupby(SOQ2, by = ['STR'],sort = True).rank(method = 'min')\n",
    "\n",
    "    SOQ_51 = SOQ_51.join(SOQ2, how = 'left', rsuffix='x').fillna(0)\n",
    "\n",
    "    SOQ_51.drop(columns = 'Skux', inplace = True)\n",
    "    SOQ_51['Rank'] = SOQ_51['WOSx'].astype('int')\n",
    "    SOQ_51.drop(columns = 'WOSx', inplace = True)\n",
    "    \n",
    "    x += 1\n",
    "    \n",
    "#----Running While Loop Unitl 52 Pallet Truck Quantities Are Reached----\n",
    "SOQ_52 = SOQ.loc[SOQ['Truck Limit'] == 22].copy()\n",
    "\n",
    "x = 0\n",
    "\n",
    "while x < 52:\n",
    "    \n",
    "    SOQ_52['SOQ PLT'] = SOQ_52[['SOQ PLT', 'Rank']].apply((lambda x: x['SOQ PLT']+1 if x['Rank'] == 1 else x['SOQ PLT']),axis =1)\n",
    "\n",
    "    SOQ_52['SOQ Units'] = SOQ_52['SOQ PLT']*SOQ_52['PLT SZ']\n",
    "    SOQ_52['AD Units'] = SOQ_52['STR OH'] + SOQ_52['STR OO'] + SOQ_52['SOQ Units']\n",
    "    SOQ_52['WOS'] = SOQ_52['AD Units'] / SOQ_52['AWS']\n",
    "\n",
    "    SOQ2 = SOQ_52[['STR', 'Sku', 'WOS']]\n",
    "    SOQ2 = pd.DataFrame.groupby(SOQ2, by = ['STR'],sort = True).rank(method = 'min')\n",
    "\n",
    "    SOQ_52 = SOQ_52.join(SOQ2, how = 'left', rsuffix='x').fillna(0)\n",
    "\n",
    "    SOQ_52.drop(columns = 'Skux', inplace = True)\n",
    "    SOQ_52['Rank'] = SOQ_52['WOSx'].astype('int')\n",
    "    SOQ_52.drop(columns = 'WOSx', inplace = True)\n",
    "    \n",
    "    x += 1"
   ]
  },
  {
   "cell_type": "markdown",
   "metadata": {},
   "source": [
    "# Adding In Totals Column"
   ]
  },
  {
   "cell_type": "code",
   "execution_count": null,
   "metadata": {},
   "outputs": [],
   "source": [
    "#----For 50 Pallet Orders----\n",
    "SOQ3 =  SOQ_50.groupby(by = 'STR')\n",
    "Total = SOQ3['SOQ PLT'].sum()\n",
    "\n",
    "Total = pd.Series.to_frame(Total)\n",
    "\n",
    "SOQ_50 = SOQ_50.merge(Total, how = 'left', on = 'STR', suffixes=('', ' Total'))\n",
    "\n",
    "#----For 51 Pallet Orders----\n",
    "SOQ3 =  SOQ_51.groupby(by = 'STR')\n",
    "Total = SOQ3['SOQ PLT'].sum()\n",
    "\n",
    "Total = pd.Series.to_frame(Total)\n",
    "\n",
    "SOQ_51 = SOQ_51.merge(Total, how = 'left', on = 'STR', suffixes=('', ' Total'))\n",
    "\n",
    "#----For 52 Pallet Orders----\n",
    "SOQ3 =  SOQ_52.groupby(by = 'STR')\n",
    "Total = SOQ3['SOQ PLT'].sum()\n",
    "\n",
    "Total = pd.Series.to_frame(Total)\n",
    "\n",
    "SOQ_52 = SOQ_52.merge(Total, how = 'left', on = 'STR', suffixes=('', ' Total'))"
   ]
  },
  {
   "cell_type": "markdown",
   "metadata": {},
   "source": [
    "# Exporting The Sheets On Same File"
   ]
  },
  {
   "cell_type": "code",
   "execution_count": null,
   "metadata": {},
   "outputs": [],
   "source": [
    "#Change File Name Every Time Code Is Run\n",
    "\n",
    "export_file = pd.ExcelWriter('19 5.21 SOQ Reports.xlsx', engine = 'xlsxwriter')\n",
    "\n",
    "SOQ_50.to_excel(export_file, sheet_name= 'Sheet 1', index = False)\n",
    "SOQ_51.to_excel(export_file, sheet_name= 'Sheet 2',index = False)\n",
    "SOQ_52.to_excel(export_file, sheet_name= 'Sheet 3', index = False)\n",
    "\n",
    "export_file.save()"
   ]
  }
 ],
 "metadata": {
  "kernelspec": {
   "display_name": "Python 3",
   "language": "python",
   "name": "python3"
  },
  "language_info": {
   "codemirror_mode": {
    "name": "ipython",
    "version": 3
   },
   "file_extension": ".py",
   "mimetype": "text/x-python",
   "name": "python",
   "nbconvert_exporter": "python",
   "pygments_lexer": "ipython3",
   "version": "3.7.3"
  }
 },
 "nbformat": 4,
 "nbformat_minor": 2
}
